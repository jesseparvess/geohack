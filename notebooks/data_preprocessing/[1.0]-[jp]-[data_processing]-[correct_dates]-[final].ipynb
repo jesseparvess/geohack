{
 "cells": [
  {
   "cell_type": "code",
   "execution_count": 7,
   "id": "987c4ded",
   "metadata": {},
   "outputs": [],
   "source": [
    "%matplotlib notebook\n",
    "import pandas as pd\n",
    "import matplotlib.pyplot as plt\n",
    "import numpy as np"
   ]
  },
  {
   "cell_type": "code",
   "execution_count": 8,
   "id": "f0124d08",
   "metadata": {},
   "outputs": [],
   "source": [
    "df = pd.read_csv('../../data/raw/miningprocess_flotation_plant_database.csv.zip',parse_dates=['date'] )"
   ]
  },
  {
   "cell_type": "code",
   "execution_count": 9,
   "id": "3f4f3254",
   "metadata": {},
   "outputs": [],
   "source": [
    "def correct_dates(df,end_date):\n",
    "    \n",
    "    # get a series of unique hourly timestamps in the dataset\n",
    "\n",
    "    hours = pd.Series(df['date'].unique())\n",
    "\n",
    "    hours.index = hours\n",
    "    \n",
    "    # create a date range of 20s intervals fro, first date to last hour logged\n",
    "\n",
    "    date_range = pd.date_range(start=df.iloc[0,0], end=end_date, freq='20S')\n",
    "    \n",
    "    # remove first couple observations from EDA - dataset specific\n",
    "\n",
    "    date_range = date_range[6:]\n",
    "    \n",
    "    # create lists from both the hours series and the new datetime index\n",
    "\n",
    "    hours_list = hours.index.format()\n",
    "\n",
    "    seconds_list = date_range.format()\n",
    "    \n",
    "    new_index = []\n",
    "\n",
    "    for idx in seconds_list:\n",
    "\n",
    "        if (idx[:13] + ':00:00') in hours_list:\n",
    "\n",
    "            new_index.append(idx)\n",
    "\n",
    "    #remove the one missing interval within the hour which we found in EDA\n",
    "\n",
    "    new_index.remove('2017-04-10 00:00:00')\n",
    "    \n",
    "    df['datetime_seconds'] = new_index \n",
    "\n",
    "    df.rename(columns={'date': 'datetime_hours'}, inplace=True)\n",
    "    \n",
    "    return df"
   ]
  },
  {
   "cell_type": "code",
   "execution_count": 10,
   "id": "757aa6eb",
   "metadata": {},
   "outputs": [],
   "source": [
    "# save data to compressed csv in processed folder\n",
    "\n",
    "df = correct_dates(df,'2017-09-09 23:59:40')\n",
    "\n",
    "df.to_csv('../../data/processed/miningprocess_flotation_plant_database_datetime_corrected.csv.gz'\\\n",
    "           ,compression=\"gzip\")"
   ]
  },
  {
   "cell_type": "code",
   "execution_count": null,
   "id": "63d1932b",
   "metadata": {},
   "outputs": [],
   "source": []
  }
 ],
 "metadata": {
  "kernelspec": {
   "display_name": "Python 3 (ipykernel)",
   "language": "python",
   "name": "python3"
  },
  "language_info": {
   "codemirror_mode": {
    "name": "ipython",
    "version": 3
   },
   "file_extension": ".py",
   "mimetype": "text/x-python",
   "name": "python",
   "nbconvert_exporter": "python",
   "pygments_lexer": "ipython3",
   "version": "3.9.7"
  }
 },
 "nbformat": 4,
 "nbformat_minor": 5
}
