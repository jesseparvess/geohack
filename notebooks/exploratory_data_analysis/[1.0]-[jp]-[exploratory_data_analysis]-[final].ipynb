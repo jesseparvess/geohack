{
 "cells": [
  {
   "cell_type": "code",
   "execution_count": 1,
   "id": "c70fabd4",
   "metadata": {},
   "outputs": [],
   "source": [
    "import pandas as pd"
   ]
  },
  {
   "cell_type": "markdown",
   "id": "28057779",
   "metadata": {},
   "source": [
    "### Data Explanation \n",
    "\n",
    "1. The first column shows time and date range (from march of 2017 until september of 2017). \n",
    "  \n",
    "  \n",
    "2. Some columns were sampled every 20 second. Others were sampled on a hourly base.\n",
    "\n",
    "\n",
    "3. The second and third columns are quality measures of the iron ore pulp right before it is fed into the flotation plant. \n",
    "\n",
    "\n",
    "4. Column 4 until column 8 are the most important variables that impact in the ore quality in the end of the process. \n",
    "\n",
    "\n",
    "5. From column 9 until column 22, we can see process data (level and air flow inside the flotation columns, which also impact in ore quality. \n",
    "\n",
    "\n",
    "6. The last two columns are the final iron ore pulp quality measurement from the lab.\n",
    "\n",
    "\n",
    "7. Target is to predict the last column, which is the % of silica in the iron ore concentrate.\n",
    "\n",
    "\n",
    "General comments:\n",
    "\n",
    "1. Column % Iron Concentrate is correlated to % Silica Concentrate and represents dataleakage. \n",
    "\n",
    "\n",
    "2. However past samplings of % Silica and % Iron Concentrate are not leakage as they inform process operations and past information that can influence current yield\n",
    "\n",
    "\n",
    "3. The above represents a regression problem \n"
   ]
  },
  {
   "cell_type": "code",
   "execution_count": 2,
   "id": "459f9215",
   "metadata": {},
   "outputs": [],
   "source": [
    "df = pd.read_csv('../../data/raw/miningprocess_flotation_plant_database.csv.zip')"
   ]
  },
  {
   "cell_type": "markdown",
   "id": "51165481",
   "metadata": {},
   "source": [
    "### Exploratory Data Analysis"
   ]
  },
  {
   "cell_type": "code",
   "execution_count": null,
   "id": "3a303856",
   "metadata": {},
   "outputs": [],
   "source": [
    "# Columns \n",
    "\n",
    "# 'date' ------------------------------------> Need to check sampling rate changes accross time and investigate\n",
    "\n",
    "# '% Iron Feed' -----------------------------> Need to understand relationship wrt to % Silica Feed\n",
    "\n",
    "# '% Silica Feed'---------------------------->\n",
    "\n",
    "# 'Starch Flow'------------------------------>\n",
    "\n",
    "# 'Amina Flow'------------------------------->\n",
    "\n",
    "# 'Ore Pulp Flow'---------------------------->\n",
    "\n",
    "# 'Ore Pulp pH'------------------------------> Need to treat as log scale potentially + worry about noise on instrument if needed\n",
    "\n",
    "# 'Ore Pulp Density'-------------------------> Potentially inaccurate measurement \n",
    "\n",
    "# 'Flotation Column 02 Air Flow'------------>\n",
    "\n",
    "# 'Flotation Column 03 Air Flow'------------>\n",
    "\n",
    "# 'Flotation Column 04 Air Flow'------------>\n",
    "\n",
    "# 'Flotation Column 05 Air Flow'------------>\n",
    "\n",
    "# 'Flotation Column 06 Air Flow'------------>\n",
    "\n",
    "# 'Flotation Column 07 Air Flow'------------> How are these correlated? Are these at the same level or measured at different points\n",
    "\n",
    "# 'Flotation Column 01 Level'---------------->How are these correlated? Are these at the same level or measured at different points\n",
    "\n",
    "# 'Flotation Column 02 Level'---------------->How are these correlated? Are these at the same level or measured at different points\n",
    "\n",
    "# 'Flotation Column 03 Level'---------------->How are these correlated? Are these at the same level or measured at different points\n",
    "\n",
    "# 'Flotation Column 04 Level'---------------->How are these correlated? Are these at the same level or measured at different points\n",
    "\n",
    "# 'Flotation Column 05 Level'---------------->How are these correlated? Are these at the same level or measured at different points\n",
    "\n",
    "# 'Flotation Column 06 Level'---------------->How are these correlated? Are these at the same level or measured at different points\n",
    "\n",
    "# 'Flotation Column 07 Level'---------------->How are these correlated? Are these at the same level or measured at different points\n",
    "\n",
    "# '% Iron Concentrate'-----------------------> Correlated with % Silica Concentrate\n",
    "\n",
    "# '% Silica Concentrate'---------------------> Final target column"
   ]
  },
  {
   "cell_type": "markdown",
   "id": "10d02622",
   "metadata": {},
   "source": [
    "### Datetime Analysis"
   ]
  },
  {
   "cell_type": "code",
   "execution_count": null,
   "id": "bda43351",
   "metadata": {},
   "outputs": [],
   "source": []
  }
 ],
 "metadata": {
  "kernelspec": {
   "display_name": "Python 3 (ipykernel)",
   "language": "python",
   "name": "python3"
  },
  "language_info": {
   "codemirror_mode": {
    "name": "ipython",
    "version": 3
   },
   "file_extension": ".py",
   "mimetype": "text/x-python",
   "name": "python",
   "nbconvert_exporter": "python",
   "pygments_lexer": "ipython3",
   "version": "3.9.7"
  }
 },
 "nbformat": 4,
 "nbformat_minor": 5
}
